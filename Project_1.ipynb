{
  "cells": [
    {
      "cell_type": "code",
      "execution_count": 17,
      "id": "299b2255",
      "metadata": {
        "id": "299b2255"
      },
      "outputs": [],
      "source": [
        "# Import stuff\n",
        "from torchvision import transforms, datasets\n",
        "import os\n",
        "from PIL import Image\n",
        "import numpy as np\n",
        "import platform\n",
        "import torch\n",
        "import torch.nn as nn\n",
        "import torch.optim as optim\n",
        "import time\n",
        "from torch.utils.data import DataLoader, random_split\n",
        "from pathlib import Path\n",
        "import matplotlib.pyplot as plt\n",
        "import seaborn as sns\n",
        "from sklearn.metrics import confusion_matrix\n"
      ]
    },
    {
      "cell_type": "markdown",
      "id": "f015c7c0",
      "metadata": {
        "id": "f015c7c0"
      },
      "source": [
        "#### Run this if in Google Colab"
      ]
    },
    {
      "cell_type": "code",
      "execution_count": null,
      "id": "02672ac5",
      "metadata": {
        "colab": {
          "base_uri": "https://localhost:8080/"
        },
        "id": "02672ac5",
        "outputId": "302404d2-fcba-4800-a969-f62380cb9f35"
      },
      "outputs": [],
      "source": [
        "def in_colab() -> bool:\n",
        "    try:\n",
        "        import google.colab\n",
        "        return True\n",
        "    except Exception:\n",
        "        return False\n",
        "\n",
        "REPO_URL = \"https://github.com/Tiromachelan/pneumonia_classification.git\"\n",
        "\n",
        "if in_colab():\n",
        "    if not Path(\"pneumonia_classification\").exists():\n",
        "        !rm -r 128x128_data\n",
        "        !rm -r pneumonia_classification\n",
        "        !git clone {REPO_URL}\n",
        "        !mv pneumonia_classification/128x128_data ."
      ]
    },
    {
      "cell_type": "code",
      "execution_count": 5,
      "id": "108555a3",
      "metadata": {
        "id": "108555a3"
      },
      "outputs": [],
      "source": [
        "# Delete images in 128x128_data if needed\n",
        "normal_dir = \"128x128_data/NORMAL\"\n",
        "pneumonia_dir = \"128x128_data/PNEUMONIA\"\n",
        "\n",
        "for file in os.listdir(normal_dir) + os.listdir(pneumonia_dir):\n",
        "    img_path = os.path.join(normal_dir if file in os.listdir(normal_dir) else pneumonia_dir, file)\n",
        "    os.remove(img_path)"
      ]
    },
    {
      "cell_type": "code",
      "execution_count": 6,
      "id": "76178a00",
      "metadata": {
        "colab": {
          "base_uri": "https://localhost:8080/"
        },
        "id": "76178a00",
        "outputId": "f838c40a-40bb-43ec-a778-fd9ad5146405"
      },
      "outputs": [
        {
          "name": "stdout",
          "output_type": "stream",
          "text": [
            "Using device: mps\n",
            "\n"
          ]
        }
      ],
      "source": [
        "# Select device\n",
        "if torch.cuda.is_available():\n",
        "    device = torch.device(\"cuda\")\n",
        "elif getattr(torch.backends, \"mps\", None) and torch.backends.mps.is_available():\n",
        "    device = torch.device(\"mps\")\n",
        "else:\n",
        "    device = torch.device(\"cpu\")\n",
        "print(f\"Using device: {device.type}\\n\")"
      ]
    },
    {
      "cell_type": "markdown",
      "id": "7f630717",
      "metadata": {
        "id": "7f630717"
      },
      "source": [
        "# Data Preparation"
      ]
    },
    {
      "cell_type": "markdown",
      "id": "f93e9baa",
      "metadata": {
        "id": "f93e9baa"
      },
      "source": [
        "#### Resize the images to 128 x 128"
      ]
    },
    {
      "cell_type": "code",
      "execution_count": 7,
      "id": "8ad82ffd",
      "metadata": {
        "id": "8ad82ffd"
      },
      "outputs": [
        {
          "name": "stdout",
          "output_type": "stream",
          "text": [
            "Smallest image dimensions: (384, 127)\n",
            "Smallest image path: data/PNEUMONIA/person407_virus_811.jpeg\n"
          ]
        }
      ],
      "source": [
        "# Set up paths\n",
        "normal_dir = \"data/NORMAL\"\n",
        "pneumonia_dir = \"data/PNEUMONIA\"\n",
        "\n",
        "# Find which images have the smallest size\n",
        "min_size = float('inf')\n",
        "min_dimensions = (float('inf'), float('inf'))\n",
        "smallest_img_path = \"\"\n",
        "\n",
        "for image in os.listdir(normal_dir) + os.listdir(pneumonia_dir):\n",
        "    if image.endswith((\".jpeg\", \".jpg\", \".png\")):\n",
        "        img_path = os.path.join(normal_dir if image in os.listdir(normal_dir) else pneumonia_dir, image)\n",
        "        with Image.open(img_path, \"r\") as img:\n",
        "            width, height = img.size\n",
        "            if width * height < min_size:\n",
        "                min_size = width * height\n",
        "                min_dimensions = (width, height)\n",
        "                smallest_img_path = img_path\n",
        "\n",
        "print(f\"Smallest image dimensions: {min_dimensions}\")\n",
        "print(f\"Smallest image path: {smallest_img_path}\")\n",
        "\n",
        "# Paths for resized images\n",
        "resized_normal_dir = \"128x128_data/NORMAL\"\n",
        "resized_pneumonia_dir = \"128x128_data/PNEUMONIA\"\n",
        "\n",
        "# Resize all images to 128x128 pixels and save them\n",
        "for image in os.listdir(normal_dir) + os.listdir(pneumonia_dir):\n",
        "    if image.endswith((\".jpeg\", \".jpg\", \".png\")):\n",
        "        img_path = os.path.join(normal_dir if image in os.listdir(normal_dir) else pneumonia_dir, image)\n",
        "        with Image.open(img_path, \"r\") as img:\n",
        "            img = img.convert(\"L\")  # Convert to grayscale\n",
        "            width, height = img.size\n",
        "            if width > height:\n",
        "                cropped_width = 128\n",
        "                cropped_height = int(height * 128 / width)\n",
        "            else:\n",
        "                cropped_height = 128\n",
        "                cropped_width = int(width * 128 / height)\n",
        "            img = img.resize((cropped_width, cropped_height)) # Resize preserving ratio\n",
        "            left = 0\n",
        "            upper = (cropped_height - 128) // 2\n",
        "            right = 128\n",
        "            lower = upper + 128\n",
        "            img = img.crop((left, upper, right, lower)) # Center crop\n",
        "\n",
        "            if \"NORMAL\" in img_path:\n",
        "                save_path = os.path.join(resized_normal_dir, image)\n",
        "            else:\n",
        "                save_path = os.path.join(resized_pneumonia_dir, image)\n",
        "            img.save(save_path)\n",
        "\n",
        "# ~30 seconds"
      ]
    },
    {
      "cell_type": "markdown",
      "id": "928fb3f3",
      "metadata": {},
      "source": [
        "#### Augment the normal images to fix imbalance"
      ]
    },
    {
      "cell_type": "code",
      "execution_count": 8,
      "id": "eb1ea525",
      "metadata": {},
      "outputs": [
        {
          "name": "stdout",
          "output_type": "stream",
          "text": [
            "Normal count: 1583\n",
            "Pneumonia count: 4273\n",
            "\n",
            "Running augmentations\n",
            "normal_count: 4273\n",
            "\n",
            "Augmentation done\n",
            "normal_count: 4273\n",
            "pneumonia_count: 4273\n"
          ]
        }
      ],
      "source": [
        "# Count the images\n",
        "normal_count = len([file for file in os.listdir(resized_normal_dir) if file.endswith(('.jpeg', '.jpg', '.png'))])\n",
        "pneumonia_count = len([file for file in os.listdir(resized_pneumonia_dir) if file.endswith(('.jpeg', '.jpg', '.png'))])\n",
        "print(f\"Normal count: {normal_count}\")\n",
        "print(f\"Pneumonia count: {pneumonia_count}\")\n",
        "\n",
        "# Augmentations\n",
        "augmentations = transforms.Compose([\n",
        "    transforms.RandomHorizontalFlip(),\n",
        "    transforms.RandomRotation(10),\n",
        "    transforms.ColorJitter(brightness=0.1, contrast=0.1)\n",
        "])\n",
        "\n",
        "print(\"\\nRunning augmentations\")\n",
        "while normal_count < pneumonia_count:\n",
        "    for image in os.listdir(resized_normal_dir):\n",
        "        img_path = os.path.join(resized_normal_dir, image)\n",
        "        with Image.open(img_path, \"r\") as img:\n",
        "            augmented_img = augmentations(img)\n",
        "            name = f\"{img_path.split('.')[0]}_augmented.{img_path.split('.')[-1]}\"\n",
        "            augmented_img.save(os.path.join(name))\n",
        "            normal_count = len([file for file in os.listdir(resized_normal_dir) if file.endswith(('.jpeg', '.jpg', '.png'))])\n",
        "            print(f\"normal_count: {normal_count}\", end='\\r')\n",
        "            if normal_count >= pneumonia_count:\n",
        "                break\n",
        "\n",
        "print(\"\\n\\nAugmentation done\")\n",
        "normal_count = len([file for file in os.listdir(resized_normal_dir) if file.endswith(('.jpeg', '.jpg', '.png'))])\n",
        "pneumonia_count = len([file for file in os.listdir(resized_pneumonia_dir) if file.endswith(('.jpeg', '.jpg', '.png'))])\n",
        "print(f\"normal_count: {normal_count}\")\n",
        "print(f\"pneumonia_count: {pneumonia_count}\")\n",
        "\n",
        "# ~6s"
      ]
    },
    {
      "cell_type": "markdown",
      "id": "94c2ba9d",
      "metadata": {
        "id": "94c2ba9d"
      },
      "source": [
        "#### Ensure that all of the images are the same shape"
      ]
    },
    {
      "cell_type": "code",
      "execution_count": 9,
      "id": "7a607b95",
      "metadata": {
        "id": "7a607b95"
      },
      "outputs": [
        {
          "name": "stdout",
          "output_type": "stream",
          "text": [
            "0 images with incorrect shape\n"
          ]
        }
      ],
      "source": [
        "# Convert each image to a tensor and ensure they are all 1 x 128 x 128\n",
        "counter = 0\n",
        "for image in os.listdir(resized_normal_dir) + os.listdir(resized_pneumonia_dir):\n",
        "    if image.endswith((\".jpeg\", \".jpg\", \".png\")):\n",
        "        img_path = os.path.join(resized_normal_dir if image in os.listdir(resized_normal_dir) else resized_pneumonia_dir, image)\n",
        "        with Image.open(img_path, \"r\") as img:\n",
        "            img_tensor = transforms.ToTensor()(img)\n",
        "            if img_tensor.shape != (1, 128, 128):\n",
        "                print(f\"{image} has shape {img_tensor.shape}\")\n",
        "                counter += 1\n",
        "print(f\"{counter} images with incorrect shape\")\n",
        "\n",
        "# ~14s"
      ]
    },
    {
      "cell_type": "markdown",
      "id": "dfd2efaa",
      "metadata": {
        "id": "dfd2efaa"
      },
      "source": [
        "#### Load the data"
      ]
    },
    {
      "cell_type": "code",
      "execution_count": null,
      "id": "7105ecb2",
      "metadata": {
        "colab": {
          "base_uri": "https://localhost:8080/"
        },
        "id": "7105ecb2",
        "outputId": "74ec4ee8-3a17-4278-8280-61c866a59dea"
      },
      "outputs": [
        {
          "name": "stdout",
          "output_type": "stream",
          "text": [
            "Classes: ['NORMAL', 'PNEUMONIA']\n",
            "Train size: 6836\n",
            "Val size: 856\n",
            "Test size: 854\n",
            "Batch size: 128\n"
          ]
        }
      ],
      "source": [
        "transform = transforms.Compose([\n",
        "    transforms.Grayscale(num_output_channels=1),\n",
        "    transforms.ToTensor(),\n",
        "    transforms.Normalize(mean=[0.5], std=[0.5])\n",
        "])\n",
        "\n",
        "# NORMAL = 0, PNEUMONIA = 1\n",
        "dataset = datasets.ImageFolder(\n",
        "    root=\"128x128_data\",\n",
        "    transform=transform\n",
        ")\n",
        "\n",
        "print(f\"Classes: {dataset.classes}\")\n",
        "\n",
        "# Split data\n",
        "train_size = int(0.8 * len(dataset))\n",
        "test_size = int(0.1 * len(dataset))\n",
        "val_size = len(dataset) - train_size - test_size\n",
        "train_dataset, val_dataset, test_dataset = random_split(dataset, [train_size, val_size, test_size])\n",
        "\n",
        "print(f\"Train size: {len(train_dataset)}\")\n",
        "print(f\"Val size: {len(val_dataset)}\")\n",
        "print(f\"Test size: {len(test_dataset)}\")\n",
        "\n",
        "# DataLoaders\n",
        "batch_size = 128\n",
        "train_loader = DataLoader(train_dataset, batch_size=batch_size, shuffle=True)\n",
        "val_loader = DataLoader(val_dataset, batch_size=batch_size, shuffle=False)\n",
        "test_loader = DataLoader(test_dataset, batch_size=batch_size, shuffle=False)\n",
        "\n",
        "print(f\"Batch size: {batch_size}\")"
      ]
    },
    {
      "cell_type": "markdown",
      "id": "86297407",
      "metadata": {
        "id": "86297407"
      },
      "source": [
        "# Fully Connected Neural Network"
      ]
    },
    {
      "cell_type": "markdown",
      "id": "08651837",
      "metadata": {
        "id": "08651837"
      },
      "source": [
        "#### Model"
      ]
    },
    {
      "cell_type": "code",
      "execution_count": 11,
      "id": "8b754011",
      "metadata": {
        "id": "8b754011"
      },
      "outputs": [],
      "source": [
        "# Define the network\n",
        "class MLP(nn.Module):\n",
        "    def __init__(self, in_dim):\n",
        "        super().__init__()\n",
        "        self.net = nn.Sequential(\n",
        "            nn.Flatten(),\n",
        "            nn.Linear(in_dim, 2048),\n",
        "            nn.ReLU(),\n",
        "            nn.Linear(2048, 512),\n",
        "            nn.ReLU(),\n",
        "            nn.Linear(512, 2)\n",
        "        )\n",
        "    def forward(self, x):\n",
        "        return self.net(x)\n"
      ]
    },
    {
      "cell_type": "markdown",
      "id": "11d951cd",
      "metadata": {
        "id": "11d951cd"
      },
      "source": [
        "#### Parameters"
      ]
    },
    {
      "cell_type": "code",
      "execution_count": 12,
      "id": "b9fc2f0a",
      "metadata": {
        "id": "b9fc2f0a"
      },
      "outputs": [],
      "source": [
        "# Define the training parameters\n",
        "model = MLP(128*128).to(device)\n",
        "criterion = nn.CrossEntropyLoss()\n",
        "optimizer = optim.Adam(model.parameters(), lr=0.1)\n",
        "epochs = 100\n",
        "history = {\n",
        "    \"train_loss\": [], \"train_acc\": [],\n",
        "    \"val_loss\":   [], \"val_acc\":   []\n",
        "}\n",
        "\n",
        "# Calculate accuracy from logits\n",
        "def accuracy_from_logits(logits, y):\n",
        "    preds = logits.argmax(1)  # choose class with highest predicted score\n",
        "    return (preds == y).float().mean().item()  # fraction of correct predictions\n"
      ]
    },
    {
      "cell_type": "markdown",
      "id": "22484aef",
      "metadata": {
        "id": "22484aef"
      },
      "source": [
        "#### Training"
      ]
    },
    {
      "cell_type": "code",
      "execution_count": 13,
      "id": "7a88ccb4",
      "metadata": {
        "colab": {
          "base_uri": "https://localhost:8080/"
        },
        "id": "7a88ccb4",
        "outputId": "d7654a33-c93d-4be5-fd6e-26bf4948bb06"
      },
      "outputs": [
        {
          "name": "stdout",
          "output_type": "stream",
          "text": [
            "Epoch 01 | train: loss=36743.3845, acc=0.6872 | val: loss=56.4797, acc=0.6367 | time: 4.33s\n",
            "Epoch 02 | train: loss=104.0547, acc=0.6182 | val: loss=4.8105, acc=0.6040 | time: 3.02s\n",
            "Epoch 03 | train: loss=0.7974, acc=0.5307 | val: loss=0.6605, acc=0.5666 | time: 3.01s\n",
            "Epoch 04 | train: loss=0.6594, acc=0.5511 | val: loss=0.6550, acc=0.5806 | time: 2.99s\n",
            "Epoch 05 | train: loss=0.6521, acc=0.5613 | val: loss=0.7036, acc=0.5993 | time: 2.98s\n",
            "Epoch 06 | train: loss=0.6636, acc=0.5587 | val: loss=0.6478, acc=0.5970 | time: 2.96s\n",
            "Epoch 07 | train: loss=1.3081, acc=0.5652 | val: loss=0.6525, acc=0.6098 | time: 2.97s\n",
            "Epoch 08 | train: loss=0.6834, acc=0.5803 | val: loss=0.6727, acc=0.5502 | time: 2.99s\n",
            "Epoch 09 | train: loss=0.6807, acc=0.5079 | val: loss=0.6871, acc=0.4755 | time: 2.97s\n",
            "Epoch 10 | train: loss=0.6901, acc=0.5309 | val: loss=0.6818, acc=0.5397 | time: 2.96s\n",
            "Epoch 11 | train: loss=0.7912, acc=0.5126 | val: loss=0.6810, acc=0.5421 | time: 2.99s\n",
            "Epoch 12 | train: loss=0.6621, acc=0.5320 | val: loss=0.8276, acc=0.6332 | time: 3.00s\n",
            "Epoch 13 | train: loss=0.6947, acc=0.5407 | val: loss=0.6627, acc=0.4813 | time: 3.01s\n",
            "Epoch 14 | train: loss=0.6699, acc=0.5195 | val: loss=0.6777, acc=0.5386 | time: 2.96s\n",
            "Epoch 15 | train: loss=0.6826, acc=0.5127 | val: loss=0.6786, acc=0.5386 | time: 3.05s\n",
            "Epoch 16 | train: loss=0.6822, acc=0.5136 | val: loss=0.6803, acc=0.4836 | time: 3.40s\n",
            "Epoch 17 | train: loss=0.6814, acc=0.5129 | val: loss=0.6758, acc=0.5386 | time: 3.04s\n",
            "Epoch 18 | train: loss=0.6810, acc=0.5178 | val: loss=0.6851, acc=0.4860 | time: 3.01s\n",
            "Epoch 19 | train: loss=0.6799, acc=0.5170 | val: loss=0.6764, acc=0.5386 | time: 2.97s\n",
            "Epoch 20 | train: loss=0.6793, acc=0.5063 | val: loss=0.6854, acc=0.5386 | time: 2.99s\n",
            "Epoch 21 | train: loss=0.6818, acc=0.5118 | val: loss=0.6775, acc=0.5386 | time: 2.99s\n",
            "Epoch 22 | train: loss=0.6817, acc=0.5104 | val: loss=0.6736, acc=0.4918 | time: 2.96s\n",
            "Epoch 23 | train: loss=0.7092, acc=0.5126 | val: loss=0.6825, acc=0.4790 | time: 3.03s\n",
            "Epoch 24 | train: loss=0.6842, acc=0.5075 | val: loss=0.6821, acc=0.5386 | time: 2.98s\n",
            "Epoch 25 | train: loss=0.6855, acc=0.5053 | val: loss=0.6828, acc=0.4778 | time: 2.99s\n",
            "Epoch 26 | train: loss=0.6843, acc=0.4985 | val: loss=0.6816, acc=0.5386 | time: 2.95s\n",
            "Epoch 27 | train: loss=0.6859, acc=0.5151 | val: loss=0.6842, acc=0.4778 | time: 2.98s\n",
            "Epoch 28 | train: loss=0.6852, acc=0.5157 | val: loss=0.6873, acc=0.4778 | time: 3.00s\n",
            "Epoch 29 | train: loss=0.6830, acc=0.5138 | val: loss=0.6814, acc=0.5386 | time: 3.00s\n",
            "Epoch 30 | train: loss=0.6847, acc=0.5105 | val: loss=0.6801, acc=0.5386 | time: 2.95s\n",
            "Epoch 31 | train: loss=0.6833, acc=0.5138 | val: loss=0.6804, acc=0.5386 | time: 2.98s\n",
            "Epoch 32 | train: loss=0.6841, acc=0.5135 | val: loss=0.6803, acc=0.5386 | time: 2.95s\n",
            "Epoch 33 | train: loss=0.6856, acc=0.5111 | val: loss=0.6859, acc=0.4778 | time: 3.08s\n",
            "Epoch 34 | train: loss=0.6841, acc=0.4961 | val: loss=0.6807, acc=0.5386 | time: 3.05s\n",
            "Epoch 35 | train: loss=0.6841, acc=0.5196 | val: loss=0.6807, acc=0.5386 | time: 3.26s\n",
            "Epoch 36 | train: loss=0.6833, acc=0.5170 | val: loss=0.6811, acc=0.5386 | time: 3.18s\n",
            "Epoch 37 | train: loss=0.6861, acc=0.5044 | val: loss=0.6865, acc=0.4778 | time: 3.32s\n",
            "Epoch 38 | train: loss=0.6849, acc=0.5048 | val: loss=0.6828, acc=0.5386 | time: 3.30s\n",
            "Epoch 39 | train: loss=0.6855, acc=0.5045 | val: loss=0.6835, acc=0.4778 | time: 2.95s\n",
            "Epoch 40 | train: loss=0.6838, acc=0.5025 | val: loss=0.6828, acc=0.4778 | time: 3.13s\n",
            "Epoch 41 | train: loss=0.6836, acc=0.5013 | val: loss=0.6802, acc=0.5386 | time: 3.04s\n",
            "Epoch 42 | train: loss=0.6841, acc=0.5142 | val: loss=0.6905, acc=0.4778 | time: 3.20s\n",
            "Epoch 43 | train: loss=0.6874, acc=0.5067 | val: loss=0.6925, acc=0.4778 | time: 2.96s\n",
            "Epoch 44 | train: loss=0.6847, acc=0.4988 | val: loss=0.6882, acc=0.4778 | time: 2.94s\n",
            "Epoch 45 | train: loss=0.6837, acc=0.4966 | val: loss=0.6877, acc=0.4778 | time: 2.93s\n",
            "Epoch 46 | train: loss=0.6838, acc=0.5050 | val: loss=0.6816, acc=0.5386 | time: 3.24s\n",
            "Epoch 47 | train: loss=0.6833, acc=0.4982 | val: loss=0.6877, acc=0.4778 | time: 3.19s\n",
            "Epoch 48 | train: loss=0.6836, acc=0.5078 | val: loss=0.6814, acc=0.5386 | time: 3.31s\n",
            "Epoch 49 | train: loss=0.6843, acc=0.5034 | val: loss=0.6901, acc=0.4778 | time: 3.02s\n",
            "Epoch 50 | train: loss=0.6854, acc=0.5038 | val: loss=0.6852, acc=0.4778 | time: 2.96s\n",
            "Epoch 51 | train: loss=0.6843, acc=0.5063 | val: loss=0.6801, acc=0.5386 | time: 2.98s\n",
            "Epoch 52 | train: loss=0.6855, acc=0.5070 | val: loss=0.6836, acc=0.4778 | time: 3.08s\n",
            "Epoch 53 | train: loss=0.6837, acc=0.5108 | val: loss=0.6940, acc=0.4778 | time: 3.24s\n",
            "Epoch 54 | train: loss=0.6834, acc=0.5037 | val: loss=0.6822, acc=0.4778 | time: 3.17s\n",
            "Epoch 55 | train: loss=0.6840, acc=0.5145 | val: loss=0.6823, acc=0.4778 | time: 3.15s\n",
            "Epoch 56 | train: loss=0.6839, acc=0.5006 | val: loss=0.6878, acc=0.4778 | time: 3.13s\n",
            "Epoch 57 | train: loss=0.6860, acc=0.5022 | val: loss=0.6878, acc=0.4778 | time: 3.21s\n",
            "Epoch 58 | train: loss=0.6846, acc=0.5050 | val: loss=0.6803, acc=0.5386 | time: 3.04s\n",
            "Epoch 59 | train: loss=0.6839, acc=0.5104 | val: loss=0.6837, acc=0.4778 | time: 3.02s\n",
            "Epoch 60 | train: loss=0.6842, acc=0.4974 | val: loss=0.6815, acc=0.5386 | time: 2.96s\n",
            "Epoch 61 | train: loss=0.6838, acc=0.5116 | val: loss=0.6857, acc=0.4778 | time: 3.00s\n",
            "Epoch 62 | train: loss=0.6855, acc=0.5039 | val: loss=0.6834, acc=0.4778 | time: 3.05s\n",
            "Epoch 63 | train: loss=0.6840, acc=0.5012 | val: loss=0.6801, acc=0.5386 | time: 3.03s\n",
            "Epoch 64 | train: loss=0.6841, acc=0.5130 | val: loss=0.6909, acc=0.4778 | time: 3.24s\n",
            "Epoch 65 | train: loss=0.6848, acc=0.5130 | val: loss=0.6838, acc=0.4778 | time: 3.12s\n",
            "Epoch 66 | train: loss=0.6841, acc=0.5097 | val: loss=0.6856, acc=0.4778 | time: 3.03s\n",
            "Epoch 67 | train: loss=0.6840, acc=0.5105 | val: loss=0.6846, acc=0.4778 | time: 3.12s\n",
            "Epoch 68 | train: loss=0.6847, acc=0.5006 | val: loss=0.6852, acc=0.4778 | time: 2.93s\n",
            "Epoch 69 | train: loss=0.6846, acc=0.5073 | val: loss=0.6812, acc=0.5386 | time: 2.92s\n",
            "Epoch 70 | train: loss=0.6850, acc=0.5124 | val: loss=0.6809, acc=0.5386 | time: 2.93s\n",
            "Epoch 71 | train: loss=0.6852, acc=0.5076 | val: loss=0.6804, acc=0.5386 | time: 3.45s\n",
            "Epoch 72 | train: loss=0.6847, acc=0.5133 | val: loss=0.6811, acc=0.5386 | time: 3.06s\n",
            "Epoch 73 | train: loss=0.6848, acc=0.5097 | val: loss=0.6809, acc=0.5386 | time: 3.00s\n",
            "Epoch 74 | train: loss=0.6835, acc=0.5083 | val: loss=0.6845, acc=0.4778 | time: 2.94s\n",
            "Epoch 75 | train: loss=0.6863, acc=0.5056 | val: loss=0.6810, acc=0.5386 | time: 2.92s\n",
            "Epoch 76 | train: loss=0.6846, acc=0.5083 | val: loss=0.6878, acc=0.4778 | time: 2.97s\n",
            "Epoch 77 | train: loss=0.6837, acc=0.5042 | val: loss=0.6812, acc=0.5386 | time: 2.95s\n",
            "Epoch 78 | train: loss=0.6839, acc=0.5064 | val: loss=0.6805, acc=0.5386 | time: 2.93s\n",
            "Epoch 79 | train: loss=0.6831, acc=0.4999 | val: loss=0.6808, acc=0.5386 | time: 2.91s\n",
            "Epoch 80 | train: loss=0.6846, acc=0.5123 | val: loss=0.6801, acc=0.5386 | time: 3.26s\n",
            "Epoch 81 | train: loss=0.6860, acc=0.4955 | val: loss=0.6838, acc=0.4778 | time: 2.97s\n",
            "Epoch 82 | train: loss=0.6844, acc=0.5116 | val: loss=0.6863, acc=0.4778 | time: 2.99s\n",
            "Epoch 83 | train: loss=0.6832, acc=0.5061 | val: loss=0.6816, acc=0.5386 | time: 2.98s\n",
            "Epoch 84 | train: loss=0.6853, acc=0.5102 | val: loss=0.6823, acc=0.4778 | time: 3.01s\n",
            "Epoch 85 | train: loss=0.6841, acc=0.5085 | val: loss=0.6829, acc=0.4778 | time: 2.99s\n",
            "Epoch 86 | train: loss=0.6866, acc=0.5063 | val: loss=0.6949, acc=0.4778 | time: 2.97s\n",
            "Epoch 87 | train: loss=0.6842, acc=0.5102 | val: loss=0.6815, acc=0.5386 | time: 2.98s\n",
            "Epoch 88 | train: loss=0.6849, acc=0.5034 | val: loss=0.6831, acc=0.4778 | time: 2.98s\n",
            "Epoch 89 | train: loss=0.6847, acc=0.4985 | val: loss=0.6869, acc=0.4778 | time: 2.99s\n",
            "Epoch 90 | train: loss=0.6849, acc=0.5085 | val: loss=0.6803, acc=0.5386 | time: 3.01s\n",
            "Epoch 91 | train: loss=0.6839, acc=0.5113 | val: loss=0.6932, acc=0.4778 | time: 2.96s\n",
            "Epoch 92 | train: loss=0.6839, acc=0.5070 | val: loss=0.6821, acc=0.4778 | time: 2.97s\n",
            "Epoch 93 | train: loss=0.6853, acc=0.5045 | val: loss=0.6987, acc=0.4778 | time: 2.97s\n",
            "Epoch 94 | train: loss=0.6843, acc=0.5143 | val: loss=0.6801, acc=0.5386 | time: 2.99s\n",
            "Epoch 95 | train: loss=0.6850, acc=0.5056 | val: loss=0.6848, acc=0.4778 | time: 2.97s\n",
            "Epoch 96 | train: loss=0.6849, acc=0.5006 | val: loss=0.6959, acc=0.4778 | time: 2.99s\n",
            "Epoch 97 | train: loss=0.6849, acc=0.5142 | val: loss=0.6804, acc=0.5386 | time: 3.00s\n",
            "Epoch 98 | train: loss=0.6842, acc=0.5051 | val: loss=0.6815, acc=0.5386 | time: 3.02s\n",
            "Epoch 99 | train: loss=0.6833, acc=0.4975 | val: loss=0.6816, acc=0.5386 | time: 2.98s\n",
            "Epoch 100 | train: loss=0.6848, acc=0.4953 | val: loss=0.6898, acc=0.4778 | time: 3.05s\n",
            "\n",
            "Total training time: 304.94s\n"
          ]
        }
      ],
      "source": [
        "train_start_time = time.time()\n",
        "for epoch in range(1, epochs + 1):\n",
        "    epoch_start_time = time.time()\n",
        "\n",
        "    # Training\n",
        "    model.train()\n",
        "    running_loss, running_correct, total = 0.0, 0, 0\n",
        "\n",
        "    for x, y in train_loader:\n",
        "        x, y = x.to(device), y.to(device)\n",
        "        optimizer.zero_grad(set_to_none=True)\n",
        "        logits = model(x)\n",
        "        loss = criterion(logits, y)\n",
        "        loss.backward()\n",
        "        optimizer.step()\n",
        "\n",
        "        running_loss += loss.item() * x.size(0)\n",
        "        running_correct += (logits.argmax(1) == y).sum().item()\n",
        "        total += x.size(0)\n",
        "\n",
        "    train_loss = running_loss / total\n",
        "    train_acc = running_correct / total\n",
        "\n",
        "    # Validation\n",
        "    model.eval()\n",
        "    val_running_loss, val_running_correct, val_total = 0.0, 0, 0\n",
        "    with torch.no_grad():\n",
        "        for x, y in val_loader:\n",
        "            x, y = x.to(device), y.to(device)\n",
        "            logits = model(x)\n",
        "            loss = criterion(logits, y)\n",
        "            val_running_loss += loss.item() * x.size(0)\n",
        "            val_running_correct += (logits.argmax(1) == y).sum().item()\n",
        "            val_total += x.size(0)\n",
        "\n",
        "    val_loss = val_running_loss / val_total\n",
        "    val_acc  = val_running_correct / val_total\n",
        "\n",
        "    history[\"train_loss\"].append(train_loss)\n",
        "    history[\"train_acc\"].append(train_acc)\n",
        "    history[\"val_loss\"].append(val_loss)\n",
        "    history[\"val_acc\"].append(val_acc)\n",
        "\n",
        "    epoch_time = time.time() - epoch_start_time\n",
        "    print(f\"Epoch {epoch:02d} | \"\n",
        "          f\"train: loss={train_loss:.4f}, acc={train_acc:.4f} | \"\n",
        "          f\"val: loss={val_loss:.4f}, acc={val_acc:.4f} | \"\n",
        "          f\"time: {epoch_time:.2f}s\")\n",
        "\n",
        "# Total training time\n",
        "total_time = time.time() - train_start_time\n",
        "print(f\"\\nTotal training time: {total_time:.2f}s\")\n",
        "\n",
        "# Save the trained model\n",
        "torch.save({\n",
        "    \"model_state\": model.state_dict(),\n",
        "    \"history\": history\n",
        "}, \"mlp_relu_128x128.pth\")\n",
        "\n",
        "# 5:41 on MPS (batch size = 64)\n",
        "# 3:34 on MPS (batch size = 128)\n",
        "# 2:45 on MPS (batch size = 256)\n",
        "# 7:50 on CPU\n",
        "# 6:20 on L4\n",
        "\n",
        "# With augmentations:\n",
        "# 5:03 on MPS (batch size = 128)"
      ]
    },
    {
      "cell_type": "markdown",
      "id": "cf8ae466",
      "metadata": {},
      "source": [
        "#### Results"
      ]
    },
    {
      "cell_type": "code",
      "execution_count": null,
      "id": "bb4f2ea5",
      "metadata": {},
      "outputs": [
        {
          "data": {
            "image/png": "[encoded data removed]",
            "text/plain": [
              "<Figure size 640x480 with 2 Axes>"
            ]
          },
          "metadata": {},
          "output_type": "display_data"
        },
        {
          "name": "stdout",
          "output_type": "stream",
          "text": [
            "Test accuracy: 0.5281\n",
            "Detected 2 classes: [0 1]\n"
          ]
        },
        {
          "data": {
            "image/png": "[encoded data removed]",
            "text/plain": [
              "<Figure size 600x600 with 2 Axes>"
            ]
          },
          "metadata": {},
          "output_type": "display_data"
        }
      ],
      "source": [
        "# Loss and accuracy graph\n",
        "# Load the trained model from file\n",
        "model = MLP(128*128).to(device)  # initialize model structure\n",
        "checkpoint = torch.load(\"models/mlp_relu_128x128_augmentations.pth\", map_location=device)\n",
        "model.load_state_dict(checkpoint[\"model_state\"])\n",
        "history = checkpoint[\"history\"]\n",
        "\n",
        "model.eval()  # set to evaluation mode\n",
        "\n",
        "# Prepare x-axis for plots\n",
        "epochs = range(1, len(history[\"train_loss\"]) + 1)\n",
        "\n",
        "# Create figure and first axis (loss)\n",
        "fig, ax1 = plt.subplots()\n",
        "\n",
        "color_loss = \"tab:blue\"\n",
        "ax1.set_xlabel(\"Epoch\")\n",
        "ax1.set_ylabel(\"Loss\", color=color_loss)\n",
        "ax1.plot(epochs, history[\"train_loss\"], label=\"Train Loss\", color=color_loss, linestyle=\"-\")\n",
        "ax1.plot(epochs, history[\"val_loss\"], label=\"Val Loss\", color=color_loss, linestyle=\"--\")\n",
        "ax1.tick_params(axis=\"y\", labelcolor=color_loss)\n",
        "\n",
        "# Second y-axis for accuracy\n",
        "ax2 = ax1.twinx()\n",
        "color_acc = \"tab:orange\"\n",
        "ax2.set_ylabel(\"Accuracy\", color=color_acc)\n",
        "ax2.plot(epochs, history[\"train_acc\"], label=\"Train Acc\", color=color_acc, linestyle=\"-\")\n",
        "ax2.plot(epochs, history[\"val_acc\"], label=\"Val Acc\", color=color_acc, linestyle=\"--\")\n",
        "ax2.tick_params(axis=\"y\", labelcolor=color_acc)\n",
        "\n",
        "# Combine legends from both axes\n",
        "lines_1, labels_1 = ax1.get_legend_handles_labels()\n",
        "lines_2, labels_2 = ax2.get_legend_handles_labels()\n",
        "ax1.legend(lines_1 + lines_2, labels_1 + labels_2, loc=\"center right\")\n",
        "\n",
        "plt.title(\"Loss and Accuracy over Epochs\")\n",
        "fig.tight_layout()\n",
        "plt.show()\n",
        "\n",
        "\n",
        "\n",
        "\n",
        "# Confusion matrix\n",
        "# Variables to track accuracy\n",
        "test_correct, test_total = 0, 0\n",
        "\n",
        "# Lists to store predictions and true labels for the confusion matrix\n",
        "all_preds, all_trues = [], []\n",
        "\n",
        "# Disable gradient computation for faster evaluation\n",
        "with torch.no_grad():\n",
        "    # Loop through the test set in batches\n",
        "    for x, y in test_loader:\n",
        "        # Move inputs to the computation device (CPU/GPU/MPS)\n",
        "        x = x.to(device)\n",
        "        \n",
        "        # Forward pass to get raw model outputs (logits)\n",
        "        logits = model(x)\n",
        "        \n",
        "        # Get predicted class indices (highest logit per sample)\n",
        "        preds = logits.argmax(1).cpu().numpy()\n",
        "        \n",
        "        # Store predictions and ground truth labels for later\n",
        "        all_preds.append(preds)\n",
        "        all_trues.append(y.numpy())\n",
        "        \n",
        "        # Update accuracy counters\n",
        "        test_correct += (preds == y.numpy()).sum()\n",
        "        test_total   += y.size(0)\n",
        "\n",
        "# Compute overall test accuracy\n",
        "test_acc = test_correct / test_total\n",
        "print(f\"Test accuracy: {test_acc:.4f}\")\n",
        "\n",
        "# Flatten predictions and true labels into 1D arrays\n",
        "y_true = np.concatenate(all_trues).ravel()\n",
        "y_pred = np.concatenate(all_preds).ravel()\n",
        "\n",
        "# Dynamically detect classes from both true and predicted\n",
        "class_labels = np.unique(np.concatenate((y_true, y_pred)))\n",
        "print(f\"Detected {len(class_labels)} classes: {class_labels}\")\n",
        "\n",
        "# Compute confusion matrix\n",
        "cm = confusion_matrix(y_true, y_pred, labels=class_labels)\n",
        "\n",
        "# Plot annotated confusion matrix\n",
        "plt.figure(figsize=(6,6))\n",
        "sns.heatmap(\n",
        "    cm,\n",
        "    annot=True,              # annotate all cells\n",
        "    fmt=\"d\",                 # integer format\n",
        "    cbar=True,\n",
        "    xticklabels=class_labels,\n",
        "    yticklabels=class_labels\n",
        ")\n",
        "plt.title(\"Confusion Matrix (Test)\")\n",
        "plt.xlabel(\"Predicted Label\")\n",
        "plt.ylabel(\"True Label\")\n",
        "plt.tight_layout()\n",
        "plt.show()"
      ]
    }
  ],
  "metadata": {
    "accelerator": "GPU",
    "colab": {
      "gpuType": "L4",
      "machine_shape": "hm",
      "provenance": []
    },
    "kernelspec": {
      "display_name": "dl-venv",
      "language": "python",
      "name": "dl-venv"
    },
    "language_info": {
      "codemirror_mode": {
        "name": "ipython",
        "version": 3
      },
      "file_extension": ".py",
      "mimetype": "text/x-python",
      "name": "python",
      "nbconvert_exporter": "python",
      "pygments_lexer": "ipython3",
      "version": "3.13.3"
    }
  },
  "nbformat": 4,
  "nbformat_minor": 5
}
