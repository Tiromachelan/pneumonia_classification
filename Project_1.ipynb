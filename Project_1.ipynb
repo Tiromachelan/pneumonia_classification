{
  "cells": [
    {
      "cell_type": "code",
      "execution_count": 79,
      "id": "299b2255",
      "metadata": {
        "id": "299b2255"
      },
      "outputs": [],
      "source": [
        "# Import stuff\n",
        "from torchvision import transforms, datasets\n",
        "import os\n",
        "from PIL import Image\n",
        "import numpy as np\n",
        "import platform\n",
        "import torch\n",
        "import torch.nn as nn\n",
        "import torch.optim as optim\n",
        "import time\n",
        "from torch.utils.data import DataLoader, random_split\n",
        "from pathlib import Path"
      ]
    },
    {
      "cell_type": "markdown",
      "id": "f015c7c0",
      "metadata": {
        "id": "f015c7c0"
      },
      "source": [
        "#### Run this if in Google Colab"
      ]
    },
    {
      "cell_type": "code",
      "execution_count": null,
      "id": "02672ac5",
      "metadata": {
        "colab": {
          "base_uri": "https://localhost:8080/"
        },
        "id": "02672ac5",
        "outputId": "302404d2-fcba-4800-a969-f62380cb9f35"
      },
      "outputs": [],
      "source": [
        "def in_colab() -> bool:\n",
        "    try:\n",
        "        import google.colab\n",
        "        return True\n",
        "    except Exception:\n",
        "        return False\n",
        "\n",
        "REPO_URL = \"https://github.com/Tiromachelan/pneumonia_classification.git\"\n",
        "\n",
        "if in_colab():\n",
        "    if not Path(\"pneumonia_classification\").exists():\n",
        "        !rm -r 128x128_data\n",
        "        !rm -r pneumonia_classification\n",
        "        !git clone {REPO_URL}\n",
        "        !mv pneumonia_classification/128x128_data ."
      ]
    },
    {
      "cell_type": "code",
      "execution_count": 110,
      "id": "108555a3",
      "metadata": {
        "id": "108555a3"
      },
      "outputs": [],
      "source": [
        "# Delete images in 128x128_data if needed\n",
        "normal_dir = \"128x128_data/NORMAL\"\n",
        "pneumonia_dir = \"128x128_data/PNEUMONIA\"\n",
        "\n",
        "for file in os.listdir(normal_dir) + os.listdir(pneumonia_dir):\n",
        "    img_path = os.path.join(normal_dir if file in os.listdir(normal_dir) else pneumonia_dir, file)\n",
        "    os.remove(img_path)"
      ]
    },
    {
      "cell_type": "code",
      "execution_count": 101,
      "id": "76178a00",
      "metadata": {
        "colab": {
          "base_uri": "https://localhost:8080/"
        },
        "id": "76178a00",
        "outputId": "f838c40a-40bb-43ec-a778-fd9ad5146405"
      },
      "outputs": [
        {
          "name": "stdout",
          "output_type": "stream",
          "text": [
            "Using device: mps\n",
            "\n"
          ]
        }
      ],
      "source": [
        "# Select device\n",
        "if torch.cuda.is_available():\n",
        "    device = torch.device(\"cuda\")\n",
        "elif getattr(torch.backends, \"mps\", None) and torch.backends.mps.is_available():\n",
        "    device = torch.device(\"mps\")\n",
        "else:\n",
        "    device = torch.device(\"cpu\")\n",
        "print(f\"Using device: {device.type}\\n\")"
      ]
    },
    {
      "cell_type": "markdown",
      "id": "7f630717",
      "metadata": {
        "id": "7f630717"
      },
      "source": [
        "# Data Preparation"
      ]
    },
    {
      "cell_type": "markdown",
      "id": "f93e9baa",
      "metadata": {
        "id": "f93e9baa"
      },
      "source": [
        "#### Resize the images to 128 x 128"
      ]
    },
    {
      "cell_type": "code",
      "execution_count": 111,
      "id": "8ad82ffd",
      "metadata": {
        "id": "8ad82ffd"
      },
      "outputs": [
        {
          "name": "stdout",
          "output_type": "stream",
          "text": [
            "Smallest image dimensions: (384, 127)\n",
            "Smallest image path: data/PNEUMONIA/person407_virus_811.jpeg\n"
          ]
        }
      ],
      "source": [
        "# Set up paths\n",
        "normal_dir = \"data/NORMAL\"\n",
        "pneumonia_dir = \"data/PNEUMONIA\"\n",
        "\n",
        "# Find which images have the smallest size\n",
        "min_size = float('inf')\n",
        "min_dimensions = (float('inf'), float('inf'))\n",
        "smallest_img_path = \"\"\n",
        "\n",
        "for image in os.listdir(normal_dir) + os.listdir(pneumonia_dir):\n",
        "    if image.endswith((\".jpeg\", \".jpg\", \".png\")):\n",
        "        img_path = os.path.join(normal_dir if image in os.listdir(normal_dir) else pneumonia_dir, image)\n",
        "        with Image.open(img_path, \"r\") as img:\n",
        "            width, height = img.size\n",
        "            if width * height < min_size:\n",
        "                min_size = width * height\n",
        "                min_dimensions = (width, height)\n",
        "                smallest_img_path = img_path\n",
        "\n",
        "print(f\"Smallest image dimensions: {min_dimensions}\")\n",
        "print(f\"Smallest image path: {smallest_img_path}\")\n",
        "\n",
        "# Paths for resized images\n",
        "resized_normal_dir = \"128x128_data/NORMAL\"\n",
        "resized_pneumonia_dir = \"128x128_data/PNEUMONIA\"\n",
        "\n",
        "# Resize all images to 128x128 pixels and save them\n",
        "for image in os.listdir(normal_dir) + os.listdir(pneumonia_dir):\n",
        "    if image.endswith((\".jpeg\", \".jpg\", \".png\")):\n",
        "        img_path = os.path.join(normal_dir if image in os.listdir(normal_dir) else pneumonia_dir, image)\n",
        "        with Image.open(img_path, \"r\") as img:\n",
        "            img = img.convert(\"L\")  # Convert to grayscale\n",
        "            width, height = img.size\n",
        "            if width > height:\n",
        "                cropped_width = 128\n",
        "                cropped_height = int(height * 128 / width)\n",
        "            else:\n",
        "                cropped_height = 128\n",
        "                cropped_width = int(width * 128 / height)\n",
        "            img = img.resize((cropped_width, cropped_height)) # Resize preserving ratio\n",
        "            left = 0\n",
        "            upper = (cropped_height - 128) // 2\n",
        "            right = 128\n",
        "            lower = upper + 128\n",
        "            img = img.crop((left, upper, right, lower)) # Center crop\n",
        "\n",
        "            if \"NORMAL\" in img_path:\n",
        "                save_path = os.path.join(resized_normal_dir, image)\n",
        "            else:\n",
        "                save_path = os.path.join(resized_pneumonia_dir, image)\n",
        "            img.save(save_path)\n",
        "\n",
        "# ~30 seconds"
      ]
    },
    {
      "cell_type": "markdown",
      "id": "928fb3f3",
      "metadata": {},
      "source": [
        "#### Augment the normal images to fix imbalance"
      ]
    },
    {
      "cell_type": "code",
      "execution_count": null,
      "id": "eb1ea525",
      "metadata": {},
      "outputs": [
        {
          "name": "stdout",
          "output_type": "stream",
          "text": [
            "Normal count: 1583\n",
            "Pneumonia count: 4273\n",
            "\n",
            "Running augmentations\n",
            "normal_count: 4273\n",
            "\n",
            "Augmentation done\n",
            "normal_count: 4273\n",
            "pneumonia_count: 4273\n"
          ]
        }
      ],
      "source": [
        "# Count the images\n",
        "normal_count = len([file for file in os.listdir(resized_normal_dir) if file.endswith(('.jpeg', '.jpg', '.png'))])\n",
        "pneumonia_count = len([file for file in os.listdir(resized_pneumonia_dir) if file.endswith(('.jpeg', '.jpg', '.png'))])\n",
        "print(f\"Normal count: {normal_count}\")\n",
        "print(f\"Pneumonia count: {pneumonia_count}\")\n",
        "\n",
        "# Augmentations\n",
        "augmentations = transforms.Compose([\n",
        "    transforms.RandomHorizontalFlip(),\n",
        "    transforms.RandomRotation(10),\n",
        "    transforms.ColorJitter(brightness=0.1, contrast=0.1)\n",
        "])\n",
        "\n",
        "print(\"\\nRunning augmentations\")\n",
        "while normal_count < pneumonia_count:\n",
        "    for image in os.listdir(resized_normal_dir):\n",
        "        img_path = os.path.join(resized_normal_dir, image)\n",
        "        with Image.open(img_path, \"r\") as img:\n",
        "            augmented_img = augmentations(img)\n",
        "            name = f\"{img_path.split('.')[0]}_augmented.{img_path.split('.')[-1]}\"\n",
        "            augmented_img.save(os.path.join(name))\n",
        "            normal_count = len([file for file in os.listdir(resized_normal_dir) if file.endswith(('.jpeg', '.jpg', '.png'))])\n",
        "            print(f\"normal_count: {normal_count}\", end='\\r')\n",
        "            if normal_count >= pneumonia_count:\n",
        "                break\n",
        "\n",
        "print(\"\\n\\nAugmentation done\")\n",
        "normal_count = len([file for file in os.listdir(resized_normal_dir) if file.endswith(('.jpeg', '.jpg', '.png'))])\n",
        "pneumonia_count = len([file for file in os.listdir(resized_pneumonia_dir) if file.endswith(('.jpeg', '.jpg', '.png'))])\n",
        "print(f\"normal_count: {normal_count}\")\n",
        "print(f\"pneumonia_count: {pneumonia_count}\")\n",
        "\n",
        "# ~6s"
      ]
    },
    {
      "cell_type": "markdown",
      "id": "94c2ba9d",
      "metadata": {
        "id": "94c2ba9d"
      },
      "source": [
        "#### Ensure that all of the images are the same shape"
      ]
    },
    {
      "cell_type": "code",
      "execution_count": null,
      "id": "7a607b95",
      "metadata": {
        "id": "7a607b95"
      },
      "outputs": [
        {
          "name": "stdout",
          "output_type": "stream",
          "text": [
            "0 images with incorrect shape\n"
          ]
        }
      ],
      "source": [
        "# Convert each image to a tensor and ensure they are all 1 x 128 x 128\n",
        "counter = 0\n",
        "for image in os.listdir(resized_normal_dir) + os.listdir(resized_pneumonia_dir):\n",
        "    if image.endswith((\".jpeg\", \".jpg\", \".png\")):\n",
        "        img_path = os.path.join(resized_normal_dir if image in os.listdir(resized_normal_dir) else resized_pneumonia_dir, image)\n",
        "        with Image.open(img_path, \"r\") as img:\n",
        "            img_tensor = transforms.ToTensor()(img)\n",
        "            if img_tensor.shape != (1, 128, 128):\n",
        "                print(f\"{image} has shape {img_tensor.shape}\")\n",
        "                counter += 1\n",
        "print(f\"{counter} images with incorrect shape\")\n",
        "\n",
        "# ~14s"
      ]
    },
    {
      "cell_type": "markdown",
      "id": "dfd2efaa",
      "metadata": {
        "id": "dfd2efaa"
      },
      "source": [
        "#### Load the data"
      ]
    },
    {
      "cell_type": "code",
      "execution_count": 114,
      "id": "7105ecb2",
      "metadata": {
        "colab": {
          "base_uri": "https://localhost:8080/"
        },
        "id": "7105ecb2",
        "outputId": "74ec4ee8-3a17-4278-8280-61c866a59dea"
      },
      "outputs": [
        {
          "name": "stdout",
          "output_type": "stream",
          "text": [
            "Classes: ['NORMAL', 'PNEUMONIA']\n",
            "Train size: 6836\n",
            "Val size: 856\n",
            "Test size: 854\n",
            "Batch size: 128\n"
          ]
        }
      ],
      "source": [
        "transform = transforms.Compose([\n",
        "    transforms.Grayscale(num_output_channels=1),\n",
        "    transforms.ToTensor(),\n",
        "    transforms.Normalize(mean=[0.5], std=[0.5])\n",
        "])\n",
        "\n",
        "dataset = datasets.ImageFolder(\n",
        "    root=\"128x128_data\",\n",
        "    transform=transform\n",
        ")\n",
        "\n",
        "print(f\"Classes: {dataset.classes}\")\n",
        "\n",
        "# Split data\n",
        "train_size = int(0.8 * len(dataset))\n",
        "test_size = int(0.1 * len(dataset))\n",
        "val_size = len(dataset) - train_size - test_size\n",
        "train_dataset, val_dataset, test_dataset = random_split(dataset, [train_size, val_size, test_size])\n",
        "\n",
        "print(f\"Train size: {len(train_dataset)}\")\n",
        "print(f\"Val size: {len(val_dataset)}\")\n",
        "print(f\"Test size: {len(test_dataset)}\")\n",
        "\n",
        "# DataLoaders\n",
        "batch_size = 128\n",
        "train_loader = DataLoader(train_dataset, batch_size=batch_size, shuffle=True)\n",
        "val_loader = DataLoader(val_dataset, batch_size=batch_size, shuffle=False)\n",
        "test_loader = DataLoader(test_dataset, batch_size=batch_size, shuffle=False)\n",
        "\n",
        "print(f\"Batch size: {batch_size}\")"
      ]
    },
    {
      "cell_type": "markdown",
      "id": "86297407",
      "metadata": {
        "id": "86297407"
      },
      "source": [
        "# Fully Connected Neural Network"
      ]
    },
    {
      "cell_type": "markdown",
      "id": "08651837",
      "metadata": {
        "id": "08651837"
      },
      "source": [
        "#### Model"
      ]
    },
    {
      "cell_type": "code",
      "execution_count": 115,
      "id": "8b754011",
      "metadata": {
        "id": "8b754011"
      },
      "outputs": [],
      "source": [
        "# Define the network\n",
        "class MLP(nn.Module):\n",
        "    def __init__(self, in_dim):\n",
        "        super().__init__()\n",
        "        self.net = nn.Sequential(\n",
        "            nn.Flatten(),\n",
        "            nn.Linear(in_dim, 2048),\n",
        "            nn.ReLU(),\n",
        "            nn.Linear(2048, 512),\n",
        "            nn.ReLU(),\n",
        "            nn.Linear(512, 2)\n",
        "        )\n",
        "    def forward(self, x):\n",
        "        return self.net(x)\n"
      ]
    },
    {
      "cell_type": "markdown",
      "id": "11d951cd",
      "metadata": {
        "id": "11d951cd"
      },
      "source": [
        "#### Parameters"
      ]
    },
    {
      "cell_type": "code",
      "execution_count": 116,
      "id": "b9fc2f0a",
      "metadata": {
        "id": "b9fc2f0a"
      },
      "outputs": [],
      "source": [
        "# Define the training parameters\n",
        "model = MLP(128*128).to(device)\n",
        "criterion = nn.CrossEntropyLoss()\n",
        "optimizer = optim.Adam(model.parameters(), lr=0.1)\n",
        "epochs = 100\n",
        "history = {\n",
        "    \"train_loss\": [], \"train_acc\": [],\n",
        "    \"val_loss\":   [], \"val_acc\":   []\n",
        "}\n",
        "\n",
        "# Calculate accuracy from logits\n",
        "def accuracy_from_logits(logits, y):\n",
        "    preds = logits.argmax(1)  # choose class with highest predicted score\n",
        "    return (preds == y).float().mean().item()  # fraction of correct predictions\n"
      ]
    },
    {
      "cell_type": "markdown",
      "id": "22484aef",
      "metadata": {
        "id": "22484aef"
      },
      "source": [
        "#### Training"
      ]
    },
    {
      "cell_type": "code",
      "execution_count": null,
      "id": "7a88ccb4",
      "metadata": {
        "colab": {
          "base_uri": "https://localhost:8080/"
        },
        "id": "7a88ccb4",
        "outputId": "d7654a33-c93d-4be5-fd6e-26bf4948bb06"
      },
      "outputs": [
        {
          "name": "stdout",
          "output_type": "stream",
          "text": [
            "Epoch 01 | train: loss=72989.7539, acc=0.7269 | val: loss=1069.2385, acc=0.8610 | time: 4.59s\n",
            "Epoch 02 | train: loss=192.7383, acc=0.8151 | val: loss=48.4020, acc=0.7921 | time: 3.01s\n",
            "Epoch 03 | train: loss=106.5207, acc=0.7579 | val: loss=759.6032, acc=0.7185 | time: 3.01s\n",
            "Epoch 04 | train: loss=33.7700, acc=0.7251 | val: loss=855.1420, acc=0.7114 | time: 3.02s\n",
            "Epoch 05 | train: loss=32.4957, acc=0.7313 | val: loss=977.3555, acc=0.7850 | time: 3.04s\n",
            "Epoch 06 | train: loss=19.0372, acc=0.7676 | val: loss=1000.1522, acc=0.6706 | time: 2.99s\n",
            "Epoch 07 | train: loss=34.3637, acc=0.6662 | val: loss=990.8441, acc=0.6484 | time: 3.00s\n",
            "Epoch 08 | train: loss=10.4231, acc=0.7556 | val: loss=845.9943, acc=0.8107 | time: 2.98s\n",
            "Epoch 09 | train: loss=1.1259, acc=0.8087 | val: loss=855.2313, acc=0.7956 | time: 3.00s\n",
            "Epoch 10 | train: loss=1.1740, acc=0.7136 | val: loss=841.1085, acc=0.6005 | time: 3.04s\n",
            "Epoch 11 | train: loss=2.1539, acc=0.6173 | val: loss=850.0893, acc=0.6051 | time: 3.01s\n",
            "Epoch 12 | train: loss=0.6239, acc=0.6028 | val: loss=834.0925, acc=0.6016 | time: 2.99s\n",
            "Epoch 13 | train: loss=0.9177, acc=0.6194 | val: loss=866.5293, acc=0.6098 | time: 2.99s\n",
            "Epoch 14 | train: loss=0.5897, acc=0.6056 | val: loss=872.4268, acc=0.6040 | time: 2.98s\n",
            "Epoch 15 | train: loss=0.5175, acc=0.7311 | val: loss=872.1303, acc=0.7874 | time: 2.98s\n",
            "Epoch 16 | train: loss=0.4618, acc=0.8081 | val: loss=872.1291, acc=0.8493 | time: 3.02s\n",
            "Epoch 17 | train: loss=0.4373, acc=0.8113 | val: loss=873.1196, acc=0.7850 | time: 3.01s\n",
            "Epoch 18 | train: loss=0.5616, acc=0.6406 | val: loss=872.7867, acc=0.6857 | time: 2.99s\n",
            "Epoch 19 | train: loss=0.3824, acc=0.8378 | val: loss=872.3114, acc=0.8610 | time: 3.01s\n",
            "Epoch 20 | train: loss=0.4853, acc=0.7708 | val: loss=871.3698, acc=0.5339 | time: 3.02s\n",
            "Epoch 21 | train: loss=0.5528, acc=0.6517 | val: loss=870.8066, acc=0.8072 | time: 2.97s\n",
            "Epoch 22 | train: loss=0.3313, acc=0.8719 | val: loss=870.1811, acc=0.8727 | time: 2.97s\n",
            "Epoch 23 | train: loss=0.3028, acc=0.8837 | val: loss=870.4111, acc=0.8493 | time: 3.07s\n",
            "Epoch 24 | train: loss=0.3311, acc=0.8757 | val: loss=869.3388, acc=0.8914 | time: 3.33s\n",
            "Epoch 25 | train: loss=0.2888, acc=0.8917 | val: loss=869.3146, acc=0.8984 | time: 3.06s\n",
            "Epoch 26 | train: loss=0.2610, acc=0.9056 | val: loss=869.6594, acc=0.9042 | time: 3.03s\n",
            "Epoch 27 | train: loss=0.2861, acc=0.9064 | val: loss=874.8471, acc=0.8808 | time: 3.11s\n",
            "Epoch 28 | train: loss=0.2964, acc=0.8992 | val: loss=875.6763, acc=0.9089 | time: 3.22s\n",
            "Epoch 29 | train: loss=0.3404, acc=0.9010 | val: loss=858.1168, acc=0.9100 | time: 3.18s\n",
            "Epoch 30 | train: loss=0.2697, acc=0.9011 | val: loss=858.3690, acc=0.8902 | time: 3.03s\n",
            "Epoch 31 | train: loss=0.2849, acc=0.8977 | val: loss=859.4764, acc=0.9100 | time: 2.99s\n",
            "Epoch 32 | train: loss=0.2475, acc=0.9096 | val: loss=859.4742, acc=0.9159 | time: 3.03s\n",
            "Epoch 33 | train: loss=0.2348, acc=0.9143 | val: loss=859.9254, acc=0.9100 | time: 3.03s\n",
            "Epoch 34 | train: loss=0.2661, acc=0.9074 | val: loss=860.8311, acc=0.9194 | time: 3.03s\n",
            "Epoch 35 | train: loss=0.2159, acc=0.9254 | val: loss=861.4267, acc=0.9112 | time: 2.99s\n",
            "Epoch 36 | train: loss=0.2401, acc=0.9133 | val: loss=861.8507, acc=0.9171 | time: 3.00s\n",
            "Epoch 37 | train: loss=0.2937, acc=0.8967 | val: loss=862.2879, acc=0.9264 | time: 2.99s\n",
            "Epoch 38 | train: loss=0.2606, acc=0.9134 | val: loss=863.6433, acc=0.9287 | time: 2.97s\n",
            "Epoch 39 | train: loss=0.2428, acc=0.9194 | val: loss=864.3063, acc=0.9077 | time: 3.00s\n",
            "Epoch 40 | train: loss=0.2628, acc=0.9255 | val: loss=866.9614, acc=0.9229 | time: 3.03s\n",
            "Epoch 41 | train: loss=0.2126, acc=0.9270 | val: loss=867.2543, acc=0.9346 | time: 2.97s\n",
            "Epoch 42 | train: loss=0.2142, acc=0.9267 | val: loss=867.2363, acc=0.9299 | time: 2.98s\n",
            "Epoch 43 | train: loss=0.1985, acc=0.9276 | val: loss=867.2578, acc=0.9311 | time: 3.02s\n",
            "Epoch 44 | train: loss=0.2255, acc=0.9229 | val: loss=867.2679, acc=0.9287 | time: 3.00s\n",
            "Epoch 45 | train: loss=0.2010, acc=0.9299 | val: loss=866.8247, acc=0.9241 | time: 3.01s\n",
            "Epoch 46 | train: loss=0.2168, acc=0.9286 | val: loss=867.2055, acc=0.8995 | time: 3.01s\n",
            "Epoch 47 | train: loss=0.3163, acc=0.8976 | val: loss=867.9147, acc=0.9030 | time: 3.00s\n",
            "Epoch 48 | train: loss=0.3111, acc=0.9056 | val: loss=865.0563, acc=0.9112 | time: 3.03s\n",
            "Epoch 49 | train: loss=0.2452, acc=0.9200 | val: loss=864.3966, acc=0.9206 | time: 3.00s\n",
            "Epoch 50 | train: loss=0.1986, acc=0.9327 | val: loss=864.3982, acc=0.9194 | time: 3.01s\n",
            "Epoch 51 | train: loss=0.2792, acc=0.9162 | val: loss=862.9861, acc=0.8703 | time: 2.98s\n",
            "Epoch 52 | train: loss=0.4985, acc=0.7509 | val: loss=861.0465, acc=0.7290 | time: 2.99s\n",
            "Epoch 53 | train: loss=0.3445, acc=0.8929 | val: loss=858.3995, acc=0.9065 | time: 3.04s\n",
            "Epoch 54 | train: loss=0.2989, acc=0.9127 | val: loss=857.9458, acc=0.9241 | time: 3.06s\n",
            "Epoch 55 | train: loss=0.2656, acc=0.9214 | val: loss=858.0987, acc=0.9171 | time: 3.01s\n",
            "Epoch 56 | train: loss=0.5258, acc=0.7191 | val: loss=856.8817, acc=0.5093 | time: 3.04s\n",
            "Epoch 57 | train: loss=0.4870, acc=0.7351 | val: loss=866.4257, acc=0.9241 | time: 2.99s\n",
            "Epoch 58 | train: loss=0.7500, acc=0.6704 | val: loss=876.8479, acc=0.6904 | time: 3.02s\n",
            "Epoch 59 | train: loss=1.2114, acc=0.8049 | val: loss=813.4370, acc=0.7570 | time: 2.98s\n",
            "Epoch 60 | train: loss=5.1842, acc=0.6261 | val: loss=1272.1539, acc=0.5572 | time: 3.02s\n",
            "Epoch 61 | train: loss=2.6563, acc=0.5489 | val: loss=1080.1429, acc=0.5491 | time: 2.96s\n",
            "Epoch 62 | train: loss=0.6218, acc=0.5654 | val: loss=1063.5080, acc=0.5549 | time: 3.00s\n",
            "Epoch 63 | train: loss=0.7690, acc=0.5827 | val: loss=1061.0245, acc=0.6203 | time: 3.06s\n",
            "Epoch 64 | train: loss=0.5643, acc=0.6698 | val: loss=1060.5975, acc=0.5514 | time: 2.98s\n",
            "Epoch 65 | train: loss=0.6805, acc=0.5660 | val: loss=1069.4025, acc=0.5619 | time: 2.98s\n",
            "Epoch 66 | train: loss=0.6111, acc=0.5942 | val: loss=1068.9657, acc=0.6098 | time: 2.99s\n",
            "Epoch 67 | train: loss=0.6678, acc=0.7184 | val: loss=1107.0349, acc=0.7091 | time: 3.00s\n",
            "Epoch 68 | train: loss=0.6473, acc=0.6197 | val: loss=1116.5518, acc=0.5444 | time: 3.05s\n",
            "Epoch 69 | train: loss=0.6304, acc=0.5723 | val: loss=1116.5822, acc=0.6145 | time: 3.03s\n",
            "Epoch 70 | train: loss=0.6105, acc=0.6344 | val: loss=1122.7512, acc=0.4977 | time: 3.01s\n",
            "Epoch 71 | train: loss=0.6401, acc=0.5503 | val: loss=1123.2327, acc=0.6063 | time: 2.97s\n",
            "Epoch 72 | train: loss=0.7696, acc=0.6712 | val: loss=1128.8831, acc=0.5397 | time: 3.06s\n",
            "Epoch 73 | train: loss=1.6314, acc=0.5630 | val: loss=1103.1098, acc=0.5012 | time: 3.06s\n",
            "Epoch 74 | train: loss=0.6501, acc=0.5312 | val: loss=1094.8926, acc=0.5432 | time: 2.97s\n",
            "Epoch 75 | train: loss=0.6411, acc=0.5607 | val: loss=1100.1837, acc=0.5549 | time: 3.04s\n",
            "Epoch 76 | train: loss=0.6312, acc=0.5679 | val: loss=1104.1019, acc=0.5666 | time: 3.03s\n",
            "Epoch 77 | train: loss=0.6505, acc=0.5922 | val: loss=1147.8545, acc=0.5502 | time: 3.00s\n",
            "Epoch 78 | train: loss=0.6458, acc=0.5537 | val: loss=1150.1570, acc=0.4953 | time: 2.98s\n",
            "Epoch 79 | train: loss=0.6129, acc=0.6017 | val: loss=1150.5068, acc=0.8329 | time: 3.02s\n",
            "Epoch 80 | train: loss=0.5402, acc=0.7143 | val: loss=1147.4604, acc=0.8400 | time: 3.00s\n",
            "Epoch 81 | train: loss=0.4925, acc=0.8006 | val: loss=1148.7634, acc=0.7150 | time: 2.98s\n",
            "Epoch 82 | train: loss=0.5213, acc=0.7605 | val: loss=1156.7215, acc=0.4953 | time: 3.01s\n",
            "Epoch 83 | train: loss=0.6816, acc=0.5272 | val: loss=1127.6168, acc=0.5339 | time: 3.00s\n",
            "Epoch 84 | train: loss=0.6627, acc=0.5284 | val: loss=1127.2714, acc=0.5339 | time: 2.98s\n",
            "Epoch 85 | train: loss=0.6620, acc=0.5350 | val: loss=1127.2709, acc=0.5339 | time: 2.97s\n",
            "Epoch 86 | train: loss=0.6622, acc=0.5265 | val: loss=1127.2712, acc=0.5339 | time: 3.00s\n",
            "Epoch 87 | train: loss=0.6628, acc=0.5240 | val: loss=1127.2712, acc=0.5339 | time: 3.00s\n",
            "Epoch 88 | train: loss=0.6634, acc=0.5326 | val: loss=1127.2783, acc=0.5339 | time: 2.98s\n",
            "Epoch 89 | train: loss=0.6628, acc=0.5338 | val: loss=1127.2718, acc=0.4953 | time: 3.06s\n",
            "Epoch 90 | train: loss=0.6628, acc=0.5293 | val: loss=1127.2711, acc=0.5339 | time: 3.02s\n",
            "Epoch 91 | train: loss=0.6619, acc=0.5325 | val: loss=1127.2707, acc=0.5339 | time: 2.98s\n",
            "Epoch 92 | train: loss=0.6623, acc=0.5306 | val: loss=1127.2706, acc=0.5339 | time: 2.98s\n",
            "Epoch 93 | train: loss=0.6619, acc=0.5282 | val: loss=1127.2725, acc=0.4953 | time: 3.02s\n",
            "Epoch 94 | train: loss=0.6626, acc=0.5360 | val: loss=1127.2708, acc=0.5339 | time: 2.96s\n",
            "Epoch 95 | train: loss=0.6635, acc=0.5260 | val: loss=1127.2713, acc=0.5339 | time: 2.97s\n",
            "Epoch 96 | train: loss=0.6626, acc=0.5203 | val: loss=1127.2709, acc=0.5339 | time: 3.02s\n",
            "Epoch 97 | train: loss=0.6636, acc=0.5260 | val: loss=1127.2740, acc=0.5339 | time: 2.98s\n",
            "Epoch 98 | train: loss=0.6631, acc=0.5243 | val: loss=1127.2720, acc=0.5339 | time: 3.01s\n",
            "Epoch 99 | train: loss=0.6629, acc=0.5228 | val: loss=1127.2704, acc=0.5339 | time: 3.04s\n",
            "Epoch 100 | train: loss=0.6626, acc=0.5328 | val: loss=1127.2784, acc=0.4953 | time: 3.11s\n",
            "\n",
            "Total training time: 303.19s\n"
          ]
        }
      ],
      "source": [
        "train_start_time = time.time()\n",
        "for epoch in range(1, epochs + 1):\n",
        "    epoch_start_time = time.time()\n",
        "\n",
        "    # Training\n",
        "    model.train()\n",
        "    running_loss, running_correct, total = 0.0, 0, 0\n",
        "\n",
        "    for x, y in train_loader:\n",
        "        x, y = x.to(device), y.to(device)\n",
        "        optimizer.zero_grad(set_to_none=True)\n",
        "        logits = model(x)\n",
        "        loss = criterion(logits, y)\n",
        "        loss.backward()\n",
        "        optimizer.step()\n",
        "\n",
        "        running_loss += loss.item() * x.size(0)\n",
        "        running_correct += (logits.argmax(1) == y).sum().item()\n",
        "        total += x.size(0)\n",
        "\n",
        "    train_loss = running_loss / total\n",
        "    train_acc = running_correct / total\n",
        "\n",
        "    # Validation\n",
        "    model.eval()\n",
        "    val_running_loss, val_running_correct, val_total = 0.0, 0, 0\n",
        "    with torch.no_grad():\n",
        "        for x, y in val_loader:\n",
        "            x, y = x.to(device), y.to(device)\n",
        "            logits = model(x)\n",
        "            loss = criterion(logits, y)\n",
        "            val_running_loss += loss.item() * x.size(0)\n",
        "            val_running_correct += (logits.argmax(1) == y).sum().item()\n",
        "            val_total += x.size(0)\n",
        "\n",
        "    val_loss = val_running_loss / val_total\n",
        "    val_acc  = val_running_correct / val_total\n",
        "\n",
        "    history[\"train_loss\"].append(train_loss)\n",
        "    history[\"train_acc\"].append(train_acc)\n",
        "    history[\"val_loss\"].append(val_loss)\n",
        "    history[\"val_acc\"].append(val_acc)\n",
        "\n",
        "    epoch_time = time.time() - epoch_start_time\n",
        "    print(f\"Epoch {epoch:02d} | \"\n",
        "          f\"train: loss={train_loss:.4f}, acc={train_acc:.4f} | \"\n",
        "          f\"val: loss={val_loss:.4f}, acc={val_acc:.4f} | \"\n",
        "          f\"time: {epoch_time:.2f}s\")\n",
        "\n",
        "# Total training time\n",
        "total_time = time.time() - train_start_time\n",
        "print(f\"\\nTotal training time: {total_time:.2f}s\")\n",
        "\n",
        "# Save the trained model\n",
        "torch.save({\n",
        "    \"model_state\": model.state_dict(),\n",
        "    \"history\": history\n",
        "}, \"mlp_relu_128x128.pth\")\n",
        "\n",
        "# 5:41 on MPS (batch size = 64)\n",
        "# 3:34 on MPS (batch size = 128)\n",
        "# 2:45 on MPS (batch size = 256)\n",
        "# 7:50 on CPU\n",
        "# 6:20 on L4\n",
        "\n",
        "# With augmentations:\n",
        "# 5:03 on MPS (batch size = 128)"
      ]
    }
  ],
  "metadata": {
    "accelerator": "GPU",
    "colab": {
      "gpuType": "L4",
      "machine_shape": "hm",
      "provenance": []
    },
    "kernelspec": {
      "display_name": "dl-venv",
      "language": "python",
      "name": "dl-venv"
    },
    "language_info": {
      "codemirror_mode": {
        "name": "ipython",
        "version": 3
      },
      "file_extension": ".py",
      "mimetype": "text/x-python",
      "name": "python",
      "nbconvert_exporter": "python",
      "pygments_lexer": "ipython3",
      "version": "3.13.3"
    }
  },
  "nbformat": 4,
  "nbformat_minor": 5
}
